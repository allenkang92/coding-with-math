{
 "cells": [
  {
   "cell_type": "markdown",
   "metadata": {},
   "source": [
    "확률과 통계"
   ]
  }
 ],
 "metadata": {
  "language_info": {
   "name": "python"
  }
 },
 "nbformat": 4,
 "nbformat_minor": 2
}
